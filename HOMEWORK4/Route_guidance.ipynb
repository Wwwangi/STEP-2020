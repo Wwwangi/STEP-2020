{
  "nbformat": 4,
  "nbformat_minor": 0,
  "metadata": {
    "colab": {
      "name": "Route_guidance.ipynb",
      "provenance": []
    },
    "kernelspec": {
      "name": "python3",
      "display_name": "Python 3"
    }
  },
  "cells": [
    {
      "cell_type": "markdown",
      "metadata": {
        "id": "3g9-8rDooUst",
        "colab_type": "text"
      },
      "source": [
        "# **Load data for stations and edges, construct the undirected graph**"
      ]
    },
    {
      "cell_type": "code",
      "metadata": {
        "id": "sApghD12knxj",
        "colab_type": "code",
        "colab": {
          "base_uri": "https://localhost:8080/",
          "height": 34
        },
        "outputId": "726a43d9-6250-471b-d4fc-e1452b2f5ccd"
      },
      "source": [
        "#put the stations.txt and edges.txt in the same directory with this notebook\n",
        "#change the path to your data path\n",
        "\n",
        "#Load stations.txt\n",
        "dic_station = {}\n",
        "f = open(\"/content/drive/My Drive/STEP/stations.txt\")\n",
        "lines = f.readlines()\n",
        "for line in lines:\n",
        "  station_id = line.split('\\t',2)[0]\n",
        "  station_name = line.split('\\t',2)[1].split('\\n',2)[0]\n",
        "  dic_station[station_id] = station_name\n",
        "f.close()\n",
        "\n",
        "#Load edges.txt\n",
        "graph = {}\n",
        "f = open(\"/content/drive/My Drive/STEP/edges.txt\")\n",
        "lines = f.readlines()\n",
        "for line in lines:\n",
        "  id_1 = line.split('\\t',3)[0]\n",
        "  id_2 = line.split('\\t',3)[1]\n",
        "  time = int(line.split('\\t',3)[2].split('\\n',2)[0])\n",
        "  if dic_station[id_1] not in graph.keys():\n",
        "    graph[dic_station[id_1]] = {dic_station[id_2]: time}\n",
        "  else:\n",
        "    if dic_station[id_2] not in graph[dic_station[id_1]].keys():\n",
        "      graph[dic_station[id_1]][dic_station[id_2]] = time\n",
        "  if dic_station[id_2] not in graph.keys():\n",
        "    graph[dic_station[id_2]] = {dic_station[id_1]: time}\n",
        "  else:\n",
        "    if dic_station[id_1] not in graph[dic_station[id_2]].keys():\n",
        "      graph[dic_station[id_2]][dic_station[id_1]] = time    \n",
        "f.close()\n",
        "\n",
        "graph['高田馬場'] "
      ],
      "execution_count": 57,
      "outputs": [
        {
          "output_type": "execute_result",
          "data": {
            "text/plain": [
              "{'新大久保': 2, '早稲田': 3, '目白': 3, '落合': 3}"
            ]
          },
          "metadata": {
            "tags": []
          },
          "execution_count": 57
        }
      ]
    },
    {
      "cell_type": "markdown",
      "metadata": {
        "id": "Lg2jNvs9oyUI",
        "colab_type": "text"
      },
      "source": [
        "# **Route guidance**"
      ]
    },
    {
      "cell_type": "code",
      "metadata": {
        "id": "akWLUjD_o34m",
        "colab_type": "code",
        "colab": {
          "base_uri": "https://localhost:8080/",
          "height": 236
        },
        "outputId": "f8a920c6-1977-4f13-9b45-2f6b131825b8"
      },
      "source": [
        "#Find the shortest path (shortest time) between station 1 and station 2 using Dijkstra’s algorithm\n",
        "departure = '駒込'\n",
        "destination = '高田馬場'\n",
        "reserved = departure\n",
        "\n",
        "#keep track of the visited and unvisited stations\n",
        "visited = set()\n",
        "unvisited = set([key for key in graph.keys()])\n",
        "#store the dijkstra information in a table (i.e. including the shortest distance from the departure station and the previous vertex)\n",
        "table = {}\n",
        "for key in graph.keys():\n",
        "  if key == departure:\n",
        "    table[key] = [0,'']\n",
        "  else:\n",
        "    table[key] = [float('inf'),'']\n",
        "\n",
        "#loop through all unvisited stations\n",
        "while unvisited:\n",
        "  for neighbour in graph[departure]:\n",
        "    if neighbour not in visited:\n",
        "      #calculate the new cost of the new path, if it's smaller than the stored one, update it\n",
        "      new_cost = table[departure][0] + graph[departure][neighbour]\n",
        "      if new_cost < table[neighbour][0]:\n",
        "        table[neighbour][0] = new_cost\n",
        "        table[neighbour][1] = departure\n",
        "  visited.add(departure)\n",
        "  unvisited.remove(departure)\n",
        "  next_departure = ''\n",
        "  temp = float('inf')\n",
        "  #visited the unvisited vertex with the smallest known distance from the start vertex\n",
        "  for station in unvisited:\n",
        "    if table[station][0] < temp:\n",
        "      temp = table[station][0]\n",
        "      next_departure = station\n",
        "  departure = next_departure\n",
        "\n",
        "\n",
        "departure = reserved\n",
        "path = [destination]\n",
        "time = []\n",
        "#back tracking from destination to departure station and record the stations on the　path\n",
        "while destination != departure:\n",
        "  path.append(table[destination][1])\n",
        "  time.append(table[destination][0])\n",
        "  destination = table[destination][1]\n",
        "\n",
        "path.reverse()\n",
        "time.append(0)\n",
        "time.reverse()\n",
        "print('======================================================')\n",
        "print('The recommended path is:')\n",
        "print(path)\n",
        "print('======================================================')\n",
        "print('The total time you need to spend on the way:')\n",
        "print(time[-1], 'mins')\n",
        "print('======================================================')\n",
        "print('Detailed time information:')\n",
        "for i in range(len(path)-1):\n",
        "  print(path[i], ' -> ', path[i+1], '\\t', time[i+1]-time[i], 'mins', '\\ttotal time cost from departure station:', time[i+1], 'mins')\n"
      ],
      "execution_count": 62,
      "outputs": [
        {
          "output_type": "stream",
          "text": [
            "======================================================\n",
            "The recommended path is:\n",
            "['駒込', '巣鴨', '大塚', '池袋', '目白', '高田馬場']\n",
            "======================================================\n",
            "The total time you need to spend on the way:\n",
            "12 mins\n",
            "======================================================\n",
            "Detailed time information:\n",
            "駒込  ->  巣鴨 \t 2 mins \ttotal time cost from departure station: 2 mins\n",
            "巣鴨  ->  大塚 \t 2 mins \ttotal time cost from departure station: 4 mins\n",
            "大塚  ->  池袋 \t 3 mins \ttotal time cost from departure station: 7 mins\n",
            "池袋  ->  目白 \t 2 mins \ttotal time cost from departure station: 9 mins\n",
            "目白  ->  高田馬場 \t 3 mins \ttotal time cost from departure station: 12 mins\n"
          ],
          "name": "stdout"
        }
      ]
    }
  ]
}