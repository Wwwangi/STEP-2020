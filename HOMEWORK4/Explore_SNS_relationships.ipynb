{
  "nbformat": 4,
  "nbformat_minor": 0,
  "metadata": {
    "colab": {
      "name": "Explore_SNS_relationships.ipynb",
      "provenance": [],
      "toc_visible": true
    },
    "kernelspec": {
      "name": "python3",
      "display_name": "Python 3"
    }
  },
  "cells": [
    {
      "cell_type": "markdown",
      "metadata": {
        "id": "dqdVon0d9UCx",
        "colab_type": "text"
      },
      "source": [
        "# **Load Data**"
      ]
    },
    {
      "cell_type": "markdown",
      "metadata": {
        "id": "aHnK49l6El11",
        "colab_type": "text"
      },
      "source": [
        "## **Small test sample**"
      ]
    },
    {
      "cell_type": "code",
      "metadata": {
        "id": "zljS_782-I1D",
        "colab_type": "code",
        "colab": {}
      },
      "source": [
        "# Small test sample\n",
        "graph = {\n",
        "    'a' : [],\n",
        "    'b' : ['a', 'me'],\n",
        "    'c' : ['b','d'],\n",
        "    'd' : ['e'],\n",
        "    'e' : ['c'],\n",
        "    'me': ['b','you'],\n",
        "    'you': ['d','e']\n",
        "}"
      ],
      "execution_count": 0,
      "outputs": []
    },
    {
      "cell_type": "markdown",
      "metadata": {
        "id": "qk1pcz42IDU5",
        "colab_type": "text"
      },
      "source": [
        "## **SNS data**"
      ]
    },
    {
      "cell_type": "code",
      "metadata": {
        "id": "AmiFyvKAIGB1",
        "colab_type": "code",
        "outputId": "edec7eb6-0384-47f2-f95c-51beabc47805",
        "colab": {
          "base_uri": "https://localhost:8080/",
          "height": 169
        }
      },
      "source": [
        "#put the nicknames.txt and links.txt in the same directory with this notebook\n",
        "#change the path to your data path\n",
        "\n",
        "#Load nicknames.txt\n",
        "dic_person = {}\n",
        "f = open(\"/content/drive/My Drive/STEP/nicknames.txt\")\n",
        "lines = f.readlines()\n",
        "for line in lines:\n",
        "  person_id = line.split('\\t',2)[0]\n",
        "  person_name = line.split('\\t',2)[1].split('\\n',2)[0]\n",
        "  dic_person[person_id] = person_name\n",
        "f.close()\n",
        "\n",
        "#Load links.txt\n",
        "graph = {}\n",
        "for key in dic_person:\n",
        "  graph[dic_person[key]] = []\n",
        "f = open(\"/content/drive/My Drive/STEP/links.txt\")\n",
        "lines = f.readlines()\n",
        "for line in lines:\n",
        "  id_1 = line.split('\\t',2)[0]\n",
        "  id_2 = line.split('\\t',2)[1].split('\\n',2)[0]\n",
        "  graph[dic_person[id_1]].append(dic_person[id_2])\n",
        "f.close()\n",
        "\n",
        "graph['brent']  # 'brent' is my name :-)"
      ],
      "execution_count": 2,
      "outputs": [
        {
          "output_type": "execute_result",
          "data": {
            "text/plain": [
              "['adrian',\n",
              " 'lance',\n",
              " 'cheryl',\n",
              " 'barry',\n",
              " 'austin',\n",
              " 'jacqueline',\n",
              " 'bruce',\n",
              " 'duane',\n",
              " 'alexander']"
            ]
          },
          "metadata": {
            "tags": []
          },
          "execution_count": 2
        }
      ]
    },
    {
      "cell_type": "code",
      "metadata": {
        "id": "jS2dqDhp2YL6",
        "colab_type": "code",
        "colab": {
          "base_uri": "https://localhost:8080/",
          "height": 34
        },
        "outputId": "b9ddea5e-9170-4b90-90a3-76dfcd5e6a10"
      },
      "source": [
        "len(graph)"
      ],
      "execution_count": 11,
      "outputs": [
        {
          "output_type": "execute_result",
          "data": {
            "text/plain": [
              "54"
            ]
          },
          "metadata": {
            "tags": []
          },
          "execution_count": 11
        }
      ]
    },
    {
      "cell_type": "markdown",
      "metadata": {
        "id": "EDI34FzE8ppo",
        "colab_type": "text"
      },
      "source": [
        "# **How many people are following each other?**  (e.g. A follows B and B follows A)"
      ]
    },
    {
      "cell_type": "code",
      "metadata": {
        "id": "TvcvbpCu-S6T",
        "colab_type": "code",
        "outputId": "721f3fa6-6151-495f-8331-287bed95cba2",
        "colab": {
          "base_uri": "https://localhost:8080/",
          "height": 1000
        }
      },
      "source": [
        "count_pair=0\n",
        "pairs=set()\n",
        "for person_1 in graph.keys():\n",
        "  for person_2 in graph[person_1]:\n",
        "    if(person_1 in graph[person_2]):\n",
        "      pair = tuple(sorted((person_1,person_2)))\n",
        "      if pair not in pairs:\n",
        "        count_pair+=1\n",
        "        pairs.add(pair)\n",
        "\n",
        "\n",
        "print('pair number: %d' %(count_pair))\n",
        "for pair in pairs:\n",
        "  print(pair)"
      ],
      "execution_count": 12,
      "outputs": [
        {
          "output_type": "stream",
          "text": [
            "pair number: 219\n",
            "('jamie', 'jeremy')\n",
            "('cecil', 'jeremy')\n",
            "('duane', 'gene')\n",
            "('brett', 'darryl')\n",
            "('brett', 'judith')\n",
            "('frances', 'francis')\n",
            "('jacqueline', 'kathleen')\n",
            "('brett', 'jacqueline')\n",
            "('barry', 'hugh')\n",
            "('frances', 'judith')\n",
            "('barry', 'jamie')\n",
            "('brent', 'jacqueline')\n",
            "('brett', 'herman')\n",
            "('cecil', 'cynthia')\n",
            "('diane', 'francis')\n",
            "('francis', 'kathleen')\n",
            "('darryl', 'herman')\n",
            "('duane', 'lance')\n",
            "('hugh', 'jacqueline')\n",
            "('danielle', 'emma')\n",
            "('barry', 'janice')\n",
            "('frederick', 'jeremy')\n",
            "('barry', 'kathleen')\n",
            "('duane', 'howard')\n",
            "('aaron', 'darryl')\n",
            "('aaron', 'judith')\n",
            "('diane', 'howard')\n",
            "('hugh', 'johnnie')\n",
            "('jamie', 'johnnie')\n",
            "('emma', 'howard')\n",
            "('eugene', 'janice')\n",
            "('brett', 'johnnie')\n",
            "('aaron', 'jon')\n",
            "('darryl', 'jay')\n",
            "('austin', 'brenda')\n",
            "('alexander', 'cecil')\n",
            "('debra', 'janice')\n",
            "('jeremy', 'joan')\n",
            "('brenda', 'frederick')\n",
            "('herman', 'jamie')\n",
            "('frances', 'johnnie')\n",
            "('herman', 'jay')\n",
            "('austin', 'jamie')\n",
            "('frederick', 'johnnie')\n",
            "('janice', 'jared')\n",
            "('daniel', 'debra')\n",
            "('emma', 'herman')\n",
            "('francis', 'lance')\n",
            "('brett', 'jay')\n",
            "('aaron', 'helen')\n",
            "('darryl', 'lance')\n",
            "('dennis', 'frances')\n",
            "('francis', 'jamie')\n",
            "('brett', 'helen')\n",
            "('cody', 'jimmie')\n",
            "('duane', 'janice')\n",
            "('frederick', 'jamie')\n",
            "('jon', 'judith')\n",
            "('cody', 'frederick')\n",
            "('jay', 'joel')\n",
            "('frances', 'jamie')\n",
            "('howard', 'luis')\n",
            "('frances', 'jon')\n",
            "('helen', 'lance')\n",
            "('cody', 'jamie')\n",
            "('brett', 'kathleen')\n",
            "('jacqueline', 'judith')\n",
            "('francis', 'janice')\n",
            "('jeremy', 'johnnie')\n",
            "('aaron', 'luis')\n",
            "('cecil', 'cody')\n",
            "('dennis', 'francis')\n",
            "('bruce', 'helen')\n",
            "('edwin', 'jay')\n",
            "('edwin', 'kevin')\n",
            "('jamie', 'luis')\n",
            "('duane', 'emma')\n",
            "('barry', 'jacqueline')\n",
            "('debra', 'gene')\n",
            "('brett', 'joel')\n",
            "('cecil', 'edwin')\n",
            "('cynthia', 'kathleen')\n",
            "('cynthia', 'janice')\n",
            "('cody', 'jack')\n",
            "('jay', 'kathleen')\n",
            "('aaron', 'kathleen')\n",
            "('cecil', 'gene')\n",
            "('brett', 'diane')\n",
            "('jacqueline', 'johnnie')\n",
            "('barry', 'jon')\n",
            "('brenda', 'daniel')\n",
            "('dennis', 'luis')\n",
            "('alexander', 'cynthia')\n",
            "('frances', 'gene')\n",
            "('brent', 'duane')\n",
            "('cecil', 'janice')\n",
            "('bruce', 'jared')\n",
            "('emma', 'gene')\n",
            "('danielle', 'frederick')\n",
            "('hugh', 'judith')\n",
            "('eugene', 'kevin')\n",
            "('brett', 'bruce')\n",
            "('diane', 'jon')\n",
            "('cody', 'johnnie')\n",
            "('cecil', 'eugene')\n",
            "('aaron', 'frances')\n",
            "('emma', 'lance')\n",
            "('alexander', 'jacqueline')\n",
            "('gene', 'jeremy')\n",
            "('bruce', 'diane')\n",
            "('darryl', 'diane')\n",
            "('daniel', 'kevin')\n",
            "('dennis', 'jimmie')\n",
            "('herman', 'jack')\n",
            "('emma', 'luis')\n",
            "('aaron', 'emma')\n",
            "('francis', 'herman')\n",
            "('bruce', 'darryl')\n",
            "('bruce', 'judith')\n",
            "('cody', 'danielle')\n",
            "('jack', 'jacqueline')\n",
            "('herman', 'kathleen')\n",
            "('danielle', 'joel')\n",
            "('janice', 'jeremy')\n",
            "('edwin', 'francis')\n",
            "('brenda', 'gene')\n",
            "('debra', 'duane')\n",
            "('jamie', 'janice')\n",
            "('danielle', 'jeremy')\n",
            "('alexander', 'jared')\n",
            "('dennis', 'lance')\n",
            "('jamie', 'judith')\n",
            "('diane', 'helen')\n",
            "('darryl', 'helen')\n",
            "('cecil', 'herman')\n",
            "('cody', 'jeremy')\n",
            "('aaron', 'herman')\n",
            "('daniel', 'frederick')\n",
            "('darryl', 'emma')\n",
            "('helen', 'howard')\n",
            "('adrian', 'alan')\n",
            "('bruce', 'dennis')\n",
            "('bruce', 'emma')\n",
            "('jacqueline', 'joel')\n",
            "('daniel', 'jamie')\n",
            "('cecil', 'debra')\n",
            "('aaron', 'diane')\n",
            "('barry', 'brent')\n",
            "('bruce', 'gene')\n",
            "('helen', 'herman')\n",
            "('jimmie', 'jon')\n",
            "('brett', 'hugh')\n",
            "('cody', 'emma')\n",
            "('danielle', 'jamie')\n",
            "('brett', 'jamie')\n",
            "('duane', 'jared')\n",
            "('edwin', 'janice')\n",
            "('edwin', 'jaime')\n",
            "('francis', 'jay')\n",
            "('frances', 'kathleen')\n",
            "('barry', 'bruce')\n",
            "('debra', 'emma')\n",
            "('bruce', 'francis')\n",
            "('emma', 'jon')\n",
            "('jamie', 'jon')\n",
            "('austin', 'debra')\n",
            "('janice', 'jon')\n",
            "('darryl', 'jon')\n",
            "('debra', 'eugene')\n",
            "('howard', 'lance')\n",
            "('barry', 'jaime')\n",
            "('aaron', 'jimmie')\n",
            "('alexander', 'kathleen')\n",
            "('barry', 'judith')\n",
            "('joan', 'joel')\n",
            "('brenda', 'kevin')\n",
            "('cody', 'janice')\n",
            "('cynthia', 'jamie')\n",
            "('joel', 'kathleen')\n",
            "('cecil', 'diane')\n",
            "('jaime', 'kathleen')\n",
            "('dennis', 'howard')\n",
            "('aaron', 'francis')\n",
            "('austin', 'brent')\n",
            "('cecil', 'daniel')\n",
            "('barry', 'frances')\n",
            "('edwin', 'eugene')\n",
            "('cecil', 'francis')\n",
            "('diane', 'herman')\n",
            "('frances', 'jimmie')\n",
            "('cody', 'frances')\n",
            "('diane', 'jay')\n",
            "('alexander', 'brenda')\n",
            "('brenda', 'darryl')\n",
            "('debra', 'jacqueline')\n",
            "('jaime', 'jay')\n",
            "('emma', 'eugene')\n",
            "('danielle', 'frances')\n",
            "('darryl', 'howard')\n",
            "('jack', 'janice')\n",
            "('daniel', 'edwin')\n",
            "('eugene', 'gene')\n",
            "('barry', 'jay')\n",
            "('duane', 'eugene')\n",
            "('herman', 'jon')\n",
            "('jack', 'jon')\n",
            "('jacqueline', 'jay')\n",
            "('brenda', 'jamie')\n",
            "('austin', 'kevin')\n",
            "('jeremy', 'jimmie')\n",
            "('johnnie', 'judith')\n",
            "('jaime', 'joel')\n",
            "('helen', 'jon')\n",
            "('jeremy', 'joel')\n",
            "('frances', 'herman')\n",
            "('aaron', 'jamie')\n",
            "('herman', 'jimmie')\n",
            "('cecil', 'joel')\n",
            "('aaron', 'jay')\n"
          ],
          "name": "stdout"
        }
      ]
    },
    {
      "cell_type": "markdown",
      "metadata": {
        "id": "jV-6uhXf8ZV4",
        "colab_type": "text"
      },
      "source": [
        "# **Can “adrian” reach me by following the link?**"
      ]
    },
    {
      "cell_type": "code",
      "metadata": {
        "id": "gVjLvtf98X84",
        "colab_type": "code",
        "outputId": "944d0343-2a6c-4a05-fbe3-6e7426c20f83",
        "colab": {
          "base_uri": "https://localhost:8080/",
          "height": 34
        }
      },
      "source": [
        "#Find if a path exists from current_node (adrian) to end_node (brent)\n",
        "def dfs(visited_node, graph, current_node, end_node):\n",
        "  # Successfully reached\n",
        "  if current_node == end_node:\n",
        "    return True\n",
        "  # Haven't reached yet, continue exploring all the neighbour nodes of current node\n",
        "  for neighbour_node in graph[current_node]:\n",
        "    if neighbour_node not in visited_node:\n",
        "      visited_node.append(neighbour_node)\n",
        "      result = dfs(visited_node, graph, neighbour_node, end_node)\n",
        "      if result:\n",
        "        return True\n",
        "  return False\n",
        "\n",
        "person_1 = 'adrian'\n",
        "person_2 = 'brent'\n",
        "Linked = dfs([], graph, person_1, person_2)\n",
        "if Linked:\n",
        "  print('Linked :-)')\n",
        "else:\n",
        "  print('Not Linked :-(')"
      ],
      "execution_count": 13,
      "outputs": [
        {
          "output_type": "stream",
          "text": [
            "Linked :-)\n"
          ],
          "name": "stdout"
        }
      ]
    },
    {
      "cell_type": "markdown",
      "metadata": {
        "id": "6hrnXM8rQ9Tg",
        "colab_type": "text"
      },
      "source": [
        "# **Find all isolated people that someone cannot reach through any link he/she (or his/her friend) has?**"
      ]
    },
    {
      "cell_type": "code",
      "metadata": {
        "id": "pe2VrOpLQ8w8",
        "colab_type": "code",
        "outputId": "269d851d-3f5d-40c6-b3cb-054b4335e931",
        "colab": {
          "base_uri": "https://localhost:8080/",
          "height": 51
        }
      },
      "source": [
        "#Find all linked people of someone (current_node)\n",
        "def dfs(graph, current_node):\n",
        "  if current_node not in visited_node:\n",
        "    visited_node.add(current_node)\n",
        "    for neighbour_node in graph[current_node]:\n",
        "      dfs(graph, neighbour_node)\n",
        "      \n",
        "person = 'brent'\n",
        "visited_node = set()\n",
        "isolated_node = set()\n",
        "dfs(graph, person)\n",
        "#find all isolated people\n",
        "for key in graph.keys():\n",
        "  if key not in visited_node:\n",
        "    isolated_node.add(key)\n",
        "if isolated_node:\n",
        "  print('You are not linked with:')\n",
        "  print(isolated_node)\n",
        "else:\n",
        "  print('Wow! You are linked to all the people!')\n",
        "  print(len(visited_node), 'People Linked.')"
      ],
      "execution_count": 19,
      "outputs": [
        {
          "output_type": "stream",
          "text": [
            "You are not linked with:\n",
            "{'betty', 'carolyn', 'lawrence'}\n"
          ],
          "name": "stdout"
        }
      ]
    },
    {
      "cell_type": "markdown",
      "metadata": {
        "id": "KeGcFhblPpGQ",
        "colab_type": "text"
      },
      "source": [
        "# **Find the shortest path from person_1 to person_2?**"
      ]
    },
    {
      "cell_type": "code",
      "metadata": {
        "id": "5Uu6nUGWVww5",
        "colab_type": "code",
        "outputId": "32049523-3edf-42fc-839e-51093bbdfaab",
        "colab": {
          "base_uri": "https://localhost:8080/",
          "height": 34
        }
      },
      "source": [
        "from collections import deque\n",
        "\n",
        "#Find shortest path from one node to another\n",
        "def bfs(visited_node, graph, current_node, end_node):\n",
        "  #store all the paths\n",
        "  queue = deque([[current_node]])\n",
        "  while len(queue) > 0:\n",
        "    current_path = queue.popleft()\n",
        "    current_node = current_path[-1]\n",
        "    if current_node not in visited_node:\n",
        "      neighbours = graph[current_node]\n",
        "      for neighbour in neighbours:\n",
        "        #form new path\n",
        "        temp = current_path.copy()\n",
        "        temp.append(neighbour)\n",
        "        if neighbour == end_node:\n",
        "          return temp\n",
        "        queue.append(temp)\n",
        "  return None\n",
        "    \n",
        "\n",
        "person_1 = 'adrian'\n",
        "person_2 = 'brent'\n",
        "visited_node = []\n",
        "visited_node = bfs(visited_node, graph, person_1, person_2)\n",
        "print(visited_node)"
      ],
      "execution_count": 20,
      "outputs": [
        {
          "output_type": "stream",
          "text": [
            "['adrian', 'emma', 'barry', 'brent']\n"
          ],
          "name": "stdout"
        }
      ]
    },
    {
      "cell_type": "markdown",
      "metadata": {
        "id": "6FowoScNg3Tj",
        "colab_type": "text"
      },
      "source": [
        "# **Who is the furthest person?**"
      ]
    },
    {
      "cell_type": "code",
      "metadata": {
        "id": "9sjWmh_khFTM",
        "colab_type": "code",
        "outputId": "48e16a18-a4a3-4c29-9f94-0113299796bc",
        "colab": {
          "base_uri": "https://localhost:8080/",
          "height": 253
        }
      },
      "source": [
        "#Find the furthest person\n",
        "from collections import deque\n",
        "def bfs_distance(visited_node, graph, start_node):\n",
        "  #A dictionary to store distance for each person from a certain person\n",
        "  distance = {}\n",
        "  distance[start_node] = 0\n",
        "  queue = deque()\n",
        "  queue.append(start_node)\n",
        "  while len(queue) > 0:\n",
        "    current_node = queue.popleft() \n",
        "    for neighbour in graph[current_node]:\n",
        "      if neighbour not in visited_node:\n",
        "        visited_node.add(neighbour)\n",
        "        queue.append(neighbour)\n",
        "        #add 1 to distance for current 'neighbour'\n",
        "        distance[neighbour] = distance[current_node]+1\n",
        "  return distance\n",
        "\n",
        "visited_node = set()\n",
        "visited_node.add('brent')\n",
        "distance = bfs_distance(visited_node, graph, 'brent')  \n",
        "distance = sorted(distance.items(), key=lambda d: d[1]) \n",
        "max_distance = [pair for pair in distance if pair[1]==distance[-1][1]]\n",
        "print('======================================')\n",
        "print('Max distance:')\n",
        "print(max_distance[0][1])\n",
        "print('======================================')\n",
        "print('Page name:')\n",
        "for person in max_distance:\n",
        "  print(person[0])"
      ],
      "execution_count": 3,
      "outputs": [
        {
          "output_type": "stream",
          "text": [
            "======================================\n",
            "Max distance:\n",
            "3\n",
            "======================================\n",
            "Page name:\n",
            "herman\n",
            "luis\n",
            "cody\n",
            "danielle\n",
            "jeremy\n",
            "daniel\n",
            "frederick\n",
            "jimmie\n",
            "joan\n"
          ],
          "name": "stdout"
        }
      ]
    },
    {
      "cell_type": "markdown",
      "metadata": {
        "id": "p1K5kdMSB3j2",
        "colab_type": "text"
      },
      "source": [
        "# **Find all possible paths from person_1 to person_2?**"
      ]
    },
    {
      "cell_type": "code",
      "metadata": {
        "id": "smhH4z7iCAww",
        "colab_type": "code",
        "colab": {}
      },
      "source": [
        "#!!! This code was tested on small test sample and it worked, however, for the large SNS data, it needs quite a long time for execution. Will check it again later.\n",
        "\n",
        "#Find all possible paths from start_node (person_1) to end_node (person_2)\n",
        "def dfs_all_paths(visited_node, graph, start_node, end_node):\n",
        "  global count\n",
        "  visited_node.append(start_node)\n",
        "\n",
        "  #When reach the end_node:\n",
        "  #1. save the possible path\n",
        "  #2. pop one item from visited_node so that we can search if there are other possbile paths starting from the previous node\n",
        "  if start_node == end_node:\n",
        "    #possible_path = visited_node.copy()\n",
        "    #possible_paths.append(possible_path)\n",
        "    count+=1\n",
        "    visited_node.pop()\n",
        "  #Not reach the end_node: continue exploring all the neighbour nodes of current node\n",
        "  else:\n",
        "    for neighbour_node in graph[start_node]:\n",
        "      if neighbour_node not in visited_node:\n",
        "        dfs_all_paths(visited_node, graph, neighbour_node, end_node)\n",
        "    #when finish checking all the neighbour nodes of current node, get one step back to search if there are other possible paths starting from the previous node\n",
        "    visited_node.pop()\n",
        "\n",
        "# Driver Code\n",
        "person_1 = 'brent'\n",
        "person_2 = 'austin'\n",
        "count = 0\n",
        "#possible_paths = []\n",
        "dfs_all_paths([], graph, person_1, person_2)\n",
        "print('There are %d possible paths from \\'%s\\' to \\'%s\\':' %(len(possible_paths),person_1,person_2))\n",
        "#for path in possible_paths:\n",
        "#  print(path)\n",
        "print(count)\n",
        "#print(possible_paths[:5])"
      ],
      "execution_count": 0,
      "outputs": []
    },
    {
      "cell_type": "markdown",
      "metadata": {
        "id": "mfB3arIt8lC2",
        "colab_type": "text"
      },
      "source": [
        "# **Find the longest link that we can form from someone?**"
      ]
    },
    {
      "cell_type": "code",
      "metadata": {
        "id": "txeC38gH9KrK",
        "colab_type": "code",
        "outputId": "e1eb0c5a-50ba-4aff-ea7c-26062ffbe6f1",
        "colab": {
          "base_uri": "https://localhost:8080/",
          "height": 68
        }
      },
      "source": [
        "#!!! This code was tested on small test sample and it worked, however, for the large SNS data, it needs quite a long time for execution. Will check it again later.\n",
        "\n",
        "#Find the longest link that we can form from someone (start_node)\n",
        "def find_furtherst_person(visited_node, graph, start_node):\n",
        "  global distance\n",
        "  visited_node.append(start_node)\n",
        "  #when reach a 'leaf node', count the current distance and update if it's larger than the previous stored distance\n",
        "  if graph[start_node] == []:\n",
        "    if len(visited_node) > distance:\n",
        "      distance = len(visited_node)\n",
        "      path.append(visited_node.copy())\n",
        "    visited_node.pop()\n",
        "  else:\n",
        "    for neighbour_node in graph[start_node]:\n",
        "      if neighbour_node not in visited_node:\n",
        "        find_furtherst_person(visited_node, graph, neighbour_node)\n",
        "    visited_node.pop()\n",
        "\n",
        "# Driver Code\n",
        "person = 'brent'\n",
        "distance = 0\n",
        "path = []\n",
        "find_furtherst_person([], graph, person)\n",
        "print('The longest link from \\'%s\\' is:' %(person))\n",
        "print(path[-1])\n",
        "print('The distance is %d' %(distance-1))"
      ],
      "execution_count": 0,
      "outputs": [
        {
          "output_type": "stream",
          "text": [
            "The longest link from 'me' is:\n",
            "['me', 'you', 'd', 'e', 'c', 'b', 'a']\n",
            "The distance is 6\n"
          ],
          "name": "stdout"
        }
      ]
    }
  ]
}