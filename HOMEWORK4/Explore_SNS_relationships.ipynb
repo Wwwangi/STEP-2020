{
  "nbformat": 4,
  "nbformat_minor": 0,
  "metadata": {
    "colab": {
      "name": "Explore_SNS_relationships.ipynb",
      "provenance": [],
      "toc_visible": true
    },
    "kernelspec": {
      "name": "python3",
      "display_name": "Python 3"
    }
  },
  "cells": [
    {
      "cell_type": "markdown",
      "metadata": {
        "id": "dqdVon0d9UCx",
        "colab_type": "text"
      },
      "source": [
        "# **Load Data**"
      ]
    },
    {
      "cell_type": "markdown",
      "metadata": {
        "id": "aHnK49l6El11",
        "colab_type": "text"
      },
      "source": [
        "## **Small test sample**"
      ]
    },
    {
      "cell_type": "code",
      "metadata": {
        "id": "zljS_782-I1D",
        "colab_type": "code",
        "colab": {}
      },
      "source": [
        "# Small test sample\n",
        "graph = {\n",
        "    'a' : [],\n",
        "    'b' : ['a', 'me'],\n",
        "    'c' : ['b','d'],\n",
        "    'd' : ['e'],\n",
        "    'e' : ['c'],\n",
        "    'me': ['b','you'],\n",
        "    'you': ['d','e']\n",
        "}"
      ],
      "execution_count": 0,
      "outputs": []
    },
    {
      "cell_type": "markdown",
      "metadata": {
        "id": "qk1pcz42IDU5",
        "colab_type": "text"
      },
      "source": [
        "## **SNS data**"
      ]
    },
    {
      "cell_type": "code",
      "metadata": {
        "id": "AmiFyvKAIGB1",
        "colab_type": "code",
        "colab": {
          "base_uri": "https://localhost:8080/",
          "height": 169
        },
        "outputId": "40bbc9dc-af57-44bc-befe-03d2a6a731dd"
      },
      "source": [
        "#put the nicknames.txt and links.txt in the same directory with this notebook\n",
        "#change the path to your data path\n",
        "\n",
        "#Load nicknames.txt\n",
        "dic_person = {}\n",
        "f = open(\"/content/drive/My Drive/STEP/nicknames.txt\")\n",
        "lines = f.readlines()\n",
        "for line in lines:\n",
        "  person_id = line.split('\\t',2)[0]\n",
        "  person_name = line.split('\\t',2)[1].split('\\n',2)[0]\n",
        "  dic_person[person_id] = person_name\n",
        "f.close()\n",
        "\n",
        "#Load links.txt\n",
        "graph = {}\n",
        "f = open(\"/content/drive/My Drive/STEP/links.txt\")\n",
        "lines = f.readlines()\n",
        "for line in lines:\n",
        "  id_1 = line.split('\\t',2)[0]\n",
        "  id_2 = line.split('\\t',2)[1].split('\\n',2)[0]\n",
        "  if dic_person[id_1] not in graph.keys():\n",
        "    graph[dic_person[id_1]] = [dic_person[id_2]]\n",
        "  else:\n",
        "    graph[dic_person[id_1]].append(dic_person[id_2])\n",
        "f.close()\n",
        "\n",
        "graph['brent']  # 'brent' is my name :-)"
      ],
      "execution_count": 147,
      "outputs": [
        {
          "output_type": "execute_result",
          "data": {
            "text/plain": [
              "['adrian',\n",
              " 'lance',\n",
              " 'cheryl',\n",
              " 'barry',\n",
              " 'austin',\n",
              " 'jacqueline',\n",
              " 'bruce',\n",
              " 'duane',\n",
              " 'alexander']"
            ]
          },
          "metadata": {
            "tags": []
          },
          "execution_count": 147
        }
      ]
    },
    {
      "cell_type": "markdown",
      "metadata": {
        "id": "EDI34FzE8ppo",
        "colab_type": "text"
      },
      "source": [
        "# **How many people are following each other?**  (e.g. A follows B and B follows A)"
      ]
    },
    {
      "cell_type": "code",
      "metadata": {
        "id": "TvcvbpCu-S6T",
        "colab_type": "code",
        "colab": {
          "base_uri": "https://localhost:8080/",
          "height": 1000
        },
        "outputId": "ae052013-86d5-478c-e689-ee6e12c679a7"
      },
      "source": [
        "count_pair=0\n",
        "pairs=set()\n",
        "for person_1 in graph.keys():\n",
        "  for person_2 in graph[person_1]:\n",
        "    if(person_1 in graph[person_2]):\n",
        "      pair = tuple(sorted((person_1,person_2)))\n",
        "      if pair not in pairs:\n",
        "        count_pair+=1\n",
        "        pairs.add(pair)\n",
        "\n",
        "\n",
        "print('pair number: %d' %(count_pair))\n",
        "for pair in pairs:\n",
        "  print(pair)"
      ],
      "execution_count": 116,
      "outputs": [
        {
          "output_type": "stream",
          "text": [
            "pair number: 219\n",
            "('diane', 'francis')\n",
            "('jeremy', 'jimmie')\n",
            "('barry', 'jay')\n",
            "('francis', 'janice')\n",
            "('daniel', 'kevin')\n",
            "('johnnie', 'judith')\n",
            "('frances', 'francis')\n",
            "('hugh', 'jacqueline')\n",
            "('gene', 'jeremy')\n",
            "('brett', 'herman')\n",
            "('brenda', 'gene')\n",
            "('bruce', 'darryl')\n",
            "('diane', 'helen')\n",
            "('cody', 'emma')\n",
            "('duane', 'eugene')\n",
            "('francis', 'jay')\n",
            "('frederick', 'jeremy')\n",
            "('cecil', 'herman')\n",
            "('brett', 'johnnie')\n",
            "('cecil', 'debra')\n",
            "('cody', 'janice')\n",
            "('francis', 'lance')\n",
            "('cecil', 'eugene')\n",
            "('cecil', 'cynthia')\n",
            "('debra', 'emma')\n",
            "('duane', 'gene')\n",
            "('adrian', 'alan')\n",
            "('alexander', 'kathleen')\n",
            "('alexander', 'jacqueline')\n",
            "('barry', 'hugh')\n",
            "('alexander', 'jared')\n",
            "('aaron', 'emma')\n",
            "('cody', 'danielle')\n",
            "('emma', 'luis')\n",
            "('brenda', 'kevin')\n",
            "('cody', 'jeremy')\n",
            "('austin', 'jamie')\n",
            "('brett', 'jay')\n",
            "('francis', 'herman')\n",
            "('edwin', 'jay')\n",
            "('aaron', 'jon')\n",
            "('jon', 'judith')\n",
            "('jacqueline', 'joel')\n",
            "('jaime', 'joel')\n",
            "('aaron', 'judith')\n",
            "('aaron', 'francis')\n",
            "('cecil', 'janice')\n",
            "('dennis', 'francis')\n",
            "('danielle', 'frances')\n",
            "('herman', 'jack')\n",
            "('jeremy', 'johnnie')\n",
            "('aaron', 'kathleen')\n",
            "('jay', 'kathleen')\n",
            "('hugh', 'johnnie')\n",
            "('danielle', 'joel')\n",
            "('daniel', 'jamie')\n",
            "('aaron', 'darryl')\n",
            "('dennis', 'frances')\n",
            "('dennis', 'howard')\n",
            "('cecil', 'cody')\n",
            "('brenda', 'daniel')\n",
            "('edwin', 'kevin')\n",
            "('duane', 'jared')\n",
            "('emma', 'howard')\n",
            "('frederick', 'jamie')\n",
            "('alexander', 'cecil')\n",
            "('janice', 'jon')\n",
            "('cecil', 'edwin')\n",
            "('bruce', 'diane')\n",
            "('brett', 'jacqueline')\n",
            "('jacqueline', 'kathleen')\n",
            "('cecil', 'joel')\n",
            "('howard', 'lance')\n",
            "('brett', 'helen')\n",
            "('diane', 'herman')\n",
            "('janice', 'jeremy')\n",
            "('cecil', 'gene')\n",
            "('frances', 'judith')\n",
            "('frances', 'herman')\n",
            "('cody', 'jamie')\n",
            "('darryl', 'jon')\n",
            "('herman', 'jay')\n",
            "('debra', 'jacqueline')\n",
            "('brenda', 'frederick')\n",
            "('cynthia', 'janice')\n",
            "('eugene', 'janice')\n",
            "('helen', 'jon')\n",
            "('danielle', 'jamie')\n",
            "('cecil', 'francis')\n",
            "('darryl', 'emma')\n",
            "('joel', 'kathleen')\n",
            "('helen', 'howard')\n",
            "('jimmie', 'jon')\n",
            "('austin', 'brent')\n",
            "('barry', 'janice')\n",
            "('hugh', 'judith')\n",
            "('diane', 'jay')\n",
            "('barry', 'jon')\n",
            "('barry', 'jaime')\n",
            "('duane', 'lance')\n",
            "('debra', 'eugene')\n",
            "('jacqueline', 'johnnie')\n",
            "('brett', 'diane')\n",
            "('brett', 'jamie')\n",
            "('daniel', 'edwin')\n",
            "('jay', 'joel')\n",
            "('barry', 'jamie')\n",
            "('cody', 'jimmie')\n",
            "('austin', 'kevin')\n",
            "('bruce', 'dennis')\n",
            "('bruce', 'helen')\n",
            "('bruce', 'judith')\n",
            "('janice', 'jared')\n",
            "('jeremy', 'joel')\n",
            "('howard', 'luis')\n",
            "('edwin', 'eugene')\n",
            "('aaron', 'herman')\n",
            "('duane', 'emma')\n",
            "('aaron', 'frances')\n",
            "('diane', 'jon')\n",
            "('cecil', 'jeremy')\n",
            "('austin', 'debra')\n",
            "('debra', 'gene')\n",
            "('cecil', 'daniel')\n",
            "('edwin', 'jaime')\n",
            "('herman', 'kathleen')\n",
            "('jeremy', 'joan')\n",
            "('brett', 'kathleen')\n",
            "('cecil', 'diane')\n",
            "('jack', 'jacqueline')\n",
            "('darryl', 'jay')\n",
            "('frederick', 'johnnie')\n",
            "('darryl', 'helen')\n",
            "('danielle', 'emma')\n",
            "('jamie', 'jeremy')\n",
            "('francis', 'kathleen')\n",
            "('barry', 'judith')\n",
            "('jacqueline', 'judith')\n",
            "('brett', 'judith')\n",
            "('aaron', 'luis')\n",
            "('joan', 'joel')\n",
            "('cynthia', 'jamie')\n",
            "('barry', 'brent')\n",
            "('cody', 'frances')\n",
            "('emma', 'eugene')\n",
            "('jamie', 'judith')\n",
            "('bruce', 'jared')\n",
            "('bruce', 'gene')\n",
            "('diane', 'howard')\n",
            "('helen', 'lance')\n",
            "('jack', 'jon')\n",
            "('eugene', 'kevin')\n",
            "('brett', 'joel')\n",
            "('cody', 'jack')\n",
            "('jamie', 'luis')\n",
            "('jack', 'janice')\n",
            "('emma', 'lance')\n",
            "('jacqueline', 'jay')\n",
            "('jamie', 'janice')\n",
            "('jaime', 'jay')\n",
            "('brent', 'jacqueline')\n",
            "('eugene', 'gene')\n",
            "('dennis', 'luis')\n",
            "('edwin', 'francis')\n",
            "('emma', 'gene')\n",
            "('frances', 'jamie')\n",
            "('francis', 'jamie')\n",
            "('jamie', 'jon')\n",
            "('darryl', 'howard')\n",
            "('cody', 'johnnie')\n",
            "('danielle', 'jeremy')\n",
            "('aaron', 'helen')\n",
            "('debra', 'duane')\n",
            "('debra', 'janice')\n",
            "('frances', 'johnnie')\n",
            "('aaron', 'jay')\n",
            "('barry', 'bruce')\n",
            "('darryl', 'diane')\n",
            "('daniel', 'frederick')\n",
            "('brenda', 'darryl')\n",
            "('alexander', 'cynthia')\n",
            "('barry', 'kathleen')\n",
            "('danielle', 'frederick')\n",
            "('frances', 'gene')\n",
            "('barry', 'frances')\n",
            "('frances', 'jimmie')\n",
            "('darryl', 'lance')\n",
            "('duane', 'janice')\n",
            "('helen', 'herman')\n",
            "('daniel', 'debra')\n",
            "('emma', 'jon')\n",
            "('frances', 'kathleen')\n",
            "('jamie', 'johnnie')\n",
            "('brett', 'hugh')\n",
            "('darryl', 'herman')\n",
            "('bruce', 'francis')\n",
            "('cody', 'frederick')\n",
            "('brett', 'darryl')\n",
            "('aaron', 'jamie')\n",
            "('brent', 'duane')\n",
            "('duane', 'howard')\n",
            "('brenda', 'jamie')\n",
            "('alexander', 'brenda')\n",
            "('barry', 'jacqueline')\n",
            "('brett', 'bruce')\n",
            "('bruce', 'emma')\n",
            "('edwin', 'janice')\n",
            "('herman', 'jamie')\n",
            "('jaime', 'kathleen')\n",
            "('austin', 'brenda')\n",
            "('dennis', 'lance')\n",
            "('cynthia', 'kathleen')\n",
            "('herman', 'jon')\n",
            "('herman', 'jimmie')\n",
            "('emma', 'herman')\n",
            "('aaron', 'diane')\n",
            "('aaron', 'jimmie')\n",
            "('frances', 'jon')\n",
            "('dennis', 'jimmie')\n"
          ],
          "name": "stdout"
        }
      ]
    },
    {
      "cell_type": "markdown",
      "metadata": {
        "id": "jV-6uhXf8ZV4",
        "colab_type": "text"
      },
      "source": [
        "# **Can “adrian” reach me by following the link?**"
      ]
    },
    {
      "cell_type": "code",
      "metadata": {
        "id": "gVjLvtf98X84",
        "colab_type": "code",
        "colab": {
          "base_uri": "https://localhost:8080/",
          "height": 34
        },
        "outputId": "55307af3-8189-4453-f184-0cec3dd94180"
      },
      "source": [
        "#Find if a path exists from start_node (adrian) to end_node (brent)\n",
        "def dfs(visited_node, graph, start_node, end_node):\n",
        "  # Successfully reached\n",
        "  if start_node == end_node:\n",
        "    return True\n",
        "  # Haven't reached yet, continue exploring all the neighbour nodes of current node\n",
        "  for neighbour_node in graph[start_node]:\n",
        "    if neighbour_node not in visited_node:\n",
        "      visited_node.append(neighbour_node)\n",
        "      result = dfs(visited_node, graph, neighbour_node, end_node)\n",
        "      if result:\n",
        "        return True\n",
        "  return False\n",
        "\n",
        "person_1 = 'adrian'\n",
        "person_2 = 'brent'\n",
        "Linked = dfs([], graph, person_1, person_2)\n",
        "if Linked:\n",
        "  print('Linked :-)')\n",
        "else:\n",
        "  print('Not Linked :-(')"
      ],
      "execution_count": 135,
      "outputs": [
        {
          "output_type": "stream",
          "text": [
            "Linked :-)\n"
          ],
          "name": "stdout"
        }
      ]
    },
    {
      "cell_type": "markdown",
      "metadata": {
        "id": "6hrnXM8rQ9Tg",
        "colab_type": "text"
      },
      "source": [
        "# **Find all isolated people that someone cannot reach through any link he/she (or his/her friend) has?**"
      ]
    },
    {
      "cell_type": "code",
      "metadata": {
        "id": "pe2VrOpLQ8w8",
        "colab_type": "code",
        "colab": {
          "base_uri": "https://localhost:8080/",
          "height": 51
        },
        "outputId": "fad0db7f-4c19-4bce-90cd-f5a0f355299e"
      },
      "source": [
        "#Find all linked people of someone (start_node)\n",
        "def dfs(graph, start_node):\n",
        "  if start_node not in visited_node:\n",
        "    visited_node.add(start_node)\n",
        "    for neighbour_node in graph[start_node]:\n",
        "      dfs(graph, neighbour_node)\n",
        "      \n",
        "person = 'austin'\n",
        "visited_node = set()\n",
        "isolated_node = set()\n",
        "dfs(graph, person)\n",
        "#find all isolated people\n",
        "for key in graph.keys():\n",
        "  if key not in visited_node:\n",
        "    isolated_node.add(key)\n",
        "if isolated_node:\n",
        "  print(isolated_node)\n",
        "else:\n",
        "  print('Wow! You are linked to all the people!')\n",
        "  print(len(visited_node), 'People Linked.')"
      ],
      "execution_count": 134,
      "outputs": [
        {
          "output_type": "stream",
          "text": [
            "Wow! You are linked to all the people!\n",
            "51 People Linked.\n"
          ],
          "name": "stdout"
        }
      ]
    },
    {
      "cell_type": "markdown",
      "metadata": {
        "id": "KeGcFhblPpGQ",
        "colab_type": "text"
      },
      "source": [
        "# **Find the shortest path from person_1 to person_2?**"
      ]
    },
    {
      "cell_type": "code",
      "metadata": {
        "id": "5Uu6nUGWVww5",
        "colab_type": "code",
        "colab": {
          "base_uri": "https://localhost:8080/",
          "height": 34
        },
        "outputId": "a3ebab0f-acfd-465b-ccde-e1002173dc76"
      },
      "source": [
        "from collections import deque\n",
        "\n",
        "#Find shortest path from start_node to end_node\n",
        "def bfs(visited_node, graph, start_node, end_node):\n",
        "  #store all the paths\n",
        "  queue = deque([[start_node]])\n",
        "  while len(queue) > 0:\n",
        "    current_path = queue.popleft()\n",
        "    current_node = current_path[-1]\n",
        "    if current_node not in visited_node:\n",
        "      neighbours = graph[current_node]\n",
        "      for neighbour in neighbours:\n",
        "        #form new path\n",
        "        temp = current_path.copy()\n",
        "        temp.append(neighbour)\n",
        "        if neighbour == end_node:\n",
        "          return temp\n",
        "        queue.append(temp)\n",
        "  return None\n",
        "    \n",
        "\n",
        "person_1 = 'adrian'\n",
        "person_2 = 'brent'\n",
        "visited_node = []\n",
        "visited_node = bfs(visited_node, graph, person_1, person_2)\n",
        "print(visited_node)"
      ],
      "execution_count": 125,
      "outputs": [
        {
          "output_type": "stream",
          "text": [
            "['adrian', 'emma', 'barry', 'brent']\n"
          ],
          "name": "stdout"
        }
      ]
    },
    {
      "cell_type": "markdown",
      "metadata": {
        "id": "6FowoScNg3Tj",
        "colab_type": "text"
      },
      "source": [
        "# **Who is the furthest person?**"
      ]
    },
    {
      "cell_type": "code",
      "metadata": {
        "id": "9sjWmh_khFTM",
        "colab_type": "code",
        "colab": {
          "base_uri": "https://localhost:8080/",
          "height": 473
        },
        "outputId": "ea43b0aa-e415-408d-b04d-b7f44ddc46d3"
      },
      "source": [
        "person = 'brent'\n",
        "distance = 0\n",
        "furthest_path = []\n",
        "\n",
        "\n",
        "for key in graph.keys():\n",
        "  if key != person:\n",
        "    path = bfs([], graph, person, key)\n",
        "    if path and len(path) >= distance:\n",
        "      distance = len(path)\n",
        "      furthest_path.append(path)\n",
        "\n",
        "for path in furthest_path:\n",
        "  if len(path) == distance:\n",
        "    print('The furthest person is \\'%s\\'' %(path[-1]))\n",
        "    print('The furthest path is: ', path)\n",
        "    print('The distance is: ', len(path))"
      ],
      "execution_count": 131,
      "outputs": [
        {
          "output_type": "stream",
          "text": [
            "The furthest person is 'cody'\n",
            "The furthest path is:  ['brent', 'adrian', 'emma', 'cody']\n",
            "The distance is:  4\n",
            "The furthest person is 'daniel'\n",
            "The furthest path is:  ['brent', 'adrian', 'jamie', 'daniel']\n",
            "The distance is:  4\n",
            "The furthest person is 'danielle'\n",
            "The furthest path is:  ['brent', 'adrian', 'emma', 'danielle']\n",
            "The distance is:  4\n",
            "The furthest person is 'frederick'\n",
            "The furthest path is:  ['brent', 'adrian', 'jamie', 'frederick']\n",
            "The distance is:  4\n",
            "The furthest person is 'herman'\n",
            "The furthest path is:  ['brent', 'adrian', 'emma', 'herman']\n",
            "The distance is:  4\n",
            "The furthest person is 'jeremy'\n",
            "The furthest path is:  ['brent', 'adrian', 'emma', 'jeremy']\n",
            "The distance is:  4\n",
            "The furthest person is 'jimmie'\n",
            "The furthest path is:  ['brent', 'lance', 'dennis', 'jimmie']\n",
            "The distance is:  4\n",
            "The furthest person is 'joan'\n",
            "The furthest path is:  ['brent', 'austin', 'joel', 'joan']\n",
            "The distance is:  4\n",
            "The furthest person is 'luis'\n",
            "The furthest path is:  ['brent', 'adrian', 'emma', 'luis']\n",
            "The distance is:  4\n"
          ],
          "name": "stdout"
        }
      ]
    },
    {
      "cell_type": "markdown",
      "metadata": {
        "id": "p1K5kdMSB3j2",
        "colab_type": "text"
      },
      "source": [
        "# **Find all possible paths from person_1 to person_2?**"
      ]
    },
    {
      "cell_type": "code",
      "metadata": {
        "id": "smhH4z7iCAww",
        "colab_type": "code",
        "colab": {
          "base_uri": "https://localhost:8080/",
          "height": 68
        },
        "outputId": "db5dfc99-451c-401f-f8c9-3e7a84844a55"
      },
      "source": [
        "#!!! This code was tested on small test sample and it worked, however, for the large SNS data, it needs quite a long time for execution. Will check it again later.\n",
        "\n",
        "#Find all possible paths from start_node (person_1) to end_node (person_2)\n",
        "def dfs_all_paths(visited_node, graph, start_node, end_node):\n",
        "  visited_node.append(start_node)\n",
        "\n",
        "  #When reach the end_node:\n",
        "  #1. save the possible path\n",
        "  #2. pop one item from visited_node so that we can search if there are other possbile paths starting from the previous node\n",
        "  if start_node == end_node:\n",
        "    possible_path = visited_node.copy()\n",
        "    if possible_path not in possible_paths:\n",
        "      possible_paths.append(possible_path)\n",
        "    visited_node.pop()\n",
        "  #Not reach the end_node: continue exploring all the neighbour nodes of current node\n",
        "  else:\n",
        "    for neighbour_node in graph[start_node]:\n",
        "      if neighbour_node not in visited_node:\n",
        "        dfs_all_paths(visited_node, graph, neighbour_node, end_node)\n",
        "    #when finish checking all the neighbour nodes of current node, get one step back to search if there are other possible paths starting from the previous node\n",
        "    visited_node.pop()\n",
        "\n",
        "# Driver Code\n",
        "person_1 = 'you'\n",
        "person_2 = 'me'\n",
        "possible_paths = []\n",
        "dfs_all_paths([], graph, person_1, person_2)\n",
        "print('There are %d possible paths from \\'%s\\' to \\'%s\\':' %(len(possible_paths),person_1,person_2))\n",
        "for path in possible_paths:\n",
        "  print(path)"
      ],
      "execution_count": 155,
      "outputs": [
        {
          "output_type": "stream",
          "text": [
            "There are 2 possible paths from 'you' to 'me':\n",
            "['you', 'd', 'e', 'c', 'b', 'me']\n",
            "['you', 'e', 'c', 'b', 'me']\n"
          ],
          "name": "stdout"
        }
      ]
    },
    {
      "cell_type": "markdown",
      "metadata": {
        "id": "mfB3arIt8lC2",
        "colab_type": "text"
      },
      "source": [
        "# **Find the longest link that we can form from someone?**"
      ]
    },
    {
      "cell_type": "code",
      "metadata": {
        "id": "txeC38gH9KrK",
        "colab_type": "code",
        "colab": {
          "base_uri": "https://localhost:8080/",
          "height": 68
        },
        "outputId": "e1eb0c5a-50ba-4aff-ea7c-26062ffbe6f1"
      },
      "source": [
        "#!!! This code was tested on small test sample and it worked, however, for the large SNS data, it needs quite a long time for execution. Will check it again later.\n",
        "\n",
        "#Find the longest link that we can form from someone (start_node)\n",
        "def find_furtherst_person(visited_node, graph, start_node):\n",
        "  global distance\n",
        "  visited_node.append(start_node)\n",
        "  #when reach a 'leaf node', count the current distance and update if it's larger than the previous stored distance\n",
        "  if graph[start_node] == []:\n",
        "    if len(visited_node) > distance:\n",
        "      distance = len(visited_node)\n",
        "      path.append(visited_node.copy())\n",
        "    visited_node.pop()\n",
        "  else:\n",
        "    for neighbour_node in graph[start_node]:\n",
        "      if neighbour_node not in visited_node:\n",
        "        find_furtherst_person(visited_node, graph, neighbour_node)\n",
        "    visited_node.pop()\n",
        "\n",
        "# Driver Code\n",
        "person = 'me'\n",
        "distance = 0\n",
        "path = []\n",
        "find_furtherst_person([], graph, person)\n",
        "print('The longest link from \\'%s\\' is:' %(person))\n",
        "print(path[-1])\n",
        "print('The distance is %d' %(distance-1))"
      ],
      "execution_count": 154,
      "outputs": [
        {
          "output_type": "stream",
          "text": [
            "The longest link from 'me' is:\n",
            "['me', 'you', 'd', 'e', 'c', 'b', 'a']\n",
            "The distance is 6\n"
          ],
          "name": "stdout"
        }
      ]
    },
    {
      "cell_type": "markdown",
      "metadata": {
        "id": "J1i02HAf9EQi",
        "colab_type": "text"
      },
      "source": [
        "# **More contents will be updated later...**"
      ]
    }
  ]
}