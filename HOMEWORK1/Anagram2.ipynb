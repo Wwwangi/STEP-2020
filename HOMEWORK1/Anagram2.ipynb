{
  "nbformat": 4,
  "nbformat_minor": 0,
  "metadata": {
    "colab": {
      "name": "Anagram2.ipynb",
      "provenance": [],
      "collapsed_sections": []
    },
    "kernelspec": {
      "name": "python3",
      "display_name": "Python 3"
    }
  },
  "cells": [
    {
      "cell_type": "code",
      "metadata": {
        "id": "-WXkxxJn3HUJ",
        "colab_type": "code",
        "colab": {}
      },
      "source": [
        "#Load dictionary data\n",
        "import pandas as pd\n",
        "data = pd.read_csv('/content/drive/My Drive/STEP/dic.txt')"
      ],
      "execution_count": 0,
      "outputs": []
    },
    {
      "cell_type": "code",
      "metadata": {
        "id": "2gxig4RZ6YMf",
        "colab_type": "code",
        "colab": {}
      },
      "source": [
        "#Prepare sorted dictionary\n",
        "import numpy as np\n",
        "dic=np.array(data.values.reshape(1,-1)[0])\n",
        "sorted_dic=[]\n",
        "for word in dic:\n",
        "  word=str(word).lower()\n",
        "  sorted_word=''.join(sorted(word))\n",
        "  sorted_dic.append([sorted_word,word])\n",
        "sorted_dic.sort()"
      ],
      "execution_count": 0,
      "outputs": []
    },
    {
      "cell_type": "code",
      "metadata": {
        "id": "tKJuR0636Yvm",
        "colab_type": "code",
        "colab": {}
      },
      "source": [
        "#binary search\n",
        "def anagram_binary_search(word,sorted_dic):\n",
        "  anagram=[]\n",
        "  initial_word=word\n",
        "  word=''.join(sorted(word))\n",
        "  #find the left-most position\n",
        "  l,r=0,len(sorted_dic)-1\n",
        "  while l<=r:\n",
        "    mid=(l+r)//2\n",
        "    if(sorted_dic[mid][0]>=word):\n",
        "      r=mid-1\n",
        "    elif(sorted_dic[mid][0]<word):\n",
        "      l=mid+1\n",
        "  position_l=l\n",
        "  #find the right-most position\n",
        "  l,r=0,len(sorted_dic)-1\n",
        "  while l<=r:\n",
        "    mid=(l+r)//2\n",
        "    if(sorted_dic[mid][0]>word):\n",
        "      r=mid-1\n",
        "    elif(sorted_dic[mid][0]<=word):\n",
        "      l=mid+1\n",
        "  position_r=r\n",
        "  #append anagram\n",
        "  for i in range(position_l,position_r+1):\n",
        "    if sorted_dic[i][1]!=initial_word:\n",
        "      anagram.append(sorted_dic[i][1])\n",
        "  return anagram"
      ],
      "execution_count": 0,
      "outputs": []
    },
    {
      "cell_type": "code",
      "metadata": {
        "id": "q_PMCdBT6_ub",
        "colab_type": "code",
        "colab": {}
      },
      "source": [
        "#To find all anagram\n",
        "def all_anagram(word,sorted_dictionary):\n",
        "  candidates=[\"\"]\n",
        "  anagram=[]\n",
        "  for char in word:\n",
        "    current_candidates=candidates.copy()\n",
        "    for candidate in current_candidates:\n",
        "      new_candidate=candidate+char\n",
        "      anagram_candidate=anagram_binary_search(sorted(new_candidate),sorted_dictionary)\n",
        "      for item in anagram_candidate:\n",
        "        if item not in anagram:\n",
        "          anagram.append(item)\n",
        "      candidates.append(new_candidate)\n",
        "  return anagram"
      ],
      "execution_count": 0,
      "outputs": []
    },
    {
      "cell_type": "code",
      "metadata": {
        "id": "mqYjJ38R70hX",
        "colab_type": "code",
        "colab": {}
      },
      "source": [
        "anagram=all_anagram('gyobsxeauuovdtwj',sorted_dic)"
      ],
      "execution_count": 0,
      "outputs": []
    },
    {
      "cell_type": "code",
      "metadata": {
        "id": "5tih3Wnx7553",
        "colab_type": "code",
        "colab": {}
      },
      "source": [
        "#anagram"
      ],
      "execution_count": 0,
      "outputs": []
    },
    {
      "cell_type": "code",
      "metadata": {
        "id": "G5bagGjNBZYH",
        "colab_type": "code",
        "colab": {
          "base_uri": "https://localhost:8080/",
          "height": 51
        },
        "outputId": "6bf7173f-d8be-488c-a254-d38f7e8ebde0"
      },
      "source": [
        "#Find the one with highest score\n",
        "lookup={'a':1,'b':1,'d':1,'e':1,'g':1,'i':1,'n':1,'o':1,'r':1,'s':1,'t':1,'u':1,'c':2,'f':2,'h':2,'l':2,'m':2,'p':2,'v':2,'w':2,'y':2,'j':3,'k':3,'q':3,'x':3,'z':3}\n",
        "score=[]\n",
        "if anagram:\n",
        "  for word in anagram:\n",
        "    i=0\n",
        "    temp=0\n",
        "    while i<len(word):\n",
        "      temp+=lookup[word[i]]\n",
        "      if word[i]!='q':\n",
        "        i+=1\n",
        "      else:\n",
        "        i+=2\n",
        "    score.append((temp+1)**2)\n",
        "\n",
        "  print('The anagram with the highest score is: '+ anagram[score.index(max(score))])\n",
        "  print('The score is: '+ str(max(score)))"
      ],
      "execution_count": 6,
      "outputs": [
        {
          "output_type": "stream",
          "text": [
            "The anagram with the highest score is: subjugated\n",
            "The score is: 169\n"
          ],
          "name": "stdout"
        }
      ]
    }
  ]
}