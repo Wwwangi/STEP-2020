{
  "nbformat": 4,
  "nbformat_minor": 0,
  "metadata": {
    "colab": {
      "name": "Anagram1.ipynb",
      "provenance": [],
      "collapsed_sections": []
    },
    "kernelspec": {
      "name": "python3",
      "display_name": "Python 3"
    }
  },
  "cells": [
    {
      "cell_type": "code",
      "metadata": {
        "id": "-EcGS9W5klZn",
        "colab_type": "code",
        "colab": {}
      },
      "source": [
        "#Load dictionary data\n",
        "import pandas as pd\n",
        "data = pd.read_csv('/content/drive/My Drive/STEP/dic.txt')"
      ],
      "execution_count": 0,
      "outputs": []
    },
    {
      "cell_type": "code",
      "metadata": {
        "id": "0zLoBO4ok5TU",
        "colab_type": "code",
        "colab": {}
      },
      "source": [
        "#sorted_dic is a array that contains all the words in dic. \n",
        "#The words are saved in pairs: [the word sorted lexicographically, the word itself]\n",
        "import numpy as np\n",
        "dic=np.array(data.values.reshape(1,-1)[0])\n",
        "sorted_dic=[]\n",
        "for word in dic:\n",
        "  word=str(word).lower()\n",
        "  sorted_word=''.join(sorted(word))\n",
        "  sorted_dic.append([sorted_word,word])\n",
        "#Sort the dic according to the first element lexicographically for futher binary search\n",
        "sorted_dic.sort()"
      ],
      "execution_count": 0,
      "outputs": []
    },
    {
      "cell_type": "code",
      "metadata": {
        "id": "rBoEhXNnnx3C",
        "colab_type": "code",
        "colab": {}
      },
      "source": [
        "#To find anagram by using binary search\n",
        "def anagram_binary_search(word,sorted_dic):\n",
        "  anagram=[]\n",
        "  initial_word=word\n",
        "  word=''.join(sorted(word))\n",
        "\n",
        "  #find the left-most position\n",
        "  l,r=0,len(sorted_dic)-1\n",
        "  while l<=r:\n",
        "    mid=(l+r)//2\n",
        "    if(sorted_dic[mid][0]>=word):\n",
        "      r=mid-1\n",
        "    elif(sorted_dic[mid][0]<word):\n",
        "      l=mid+1\n",
        "  position_l=l\n",
        "\n",
        "  #find the right-most position\n",
        "  l,r=0,len(sorted_dic)-1\n",
        "  while l<=r:\n",
        "    mid=(l+r)//2\n",
        "    if(sorted_dic[mid][0]>word):\n",
        "      r=mid-1\n",
        "    elif(sorted_dic[mid][0]<=word):\n",
        "      l=mid+1\n",
        "  position_r=r\n",
        "  \n",
        "  #append anagram\n",
        "  for i in range(position_l,position_r+1):\n",
        "    if sorted_dic[i][1]!=initial_word:\n",
        "      anagram.append(sorted_dic[i][1])\n",
        "\n",
        "  return anagram"
      ],
      "execution_count": 0,
      "outputs": []
    },
    {
      "cell_type": "code",
      "metadata": {
        "id": "4MRyILPNoil_",
        "colab_type": "code",
        "colab": {}
      },
      "source": [
        "anagram=anagram_binary_search('wangi',sorted_dic)"
      ],
      "execution_count": 0,
      "outputs": []
    },
    {
      "cell_type": "code",
      "metadata": {
        "id": "7qpF43VzopSe",
        "colab_type": "code",
        "outputId": "caed83ee-b9ea-4a01-e444-897368d47261",
        "colab": {
          "base_uri": "https://localhost:8080/",
          "height": 34
        }
      },
      "source": [
        "anagram"
      ],
      "execution_count": 5,
      "outputs": [
        {
          "output_type": "execute_result",
          "data": {
            "text/plain": [
              "['awing']"
            ]
          },
          "metadata": {
            "tags": []
          },
          "execution_count": 5
        }
      ]
    },
    {
      "cell_type": "code",
      "metadata": {
        "id": "2dSgBvdGuPD2",
        "colab_type": "code",
        "outputId": "557b2c49-254a-4750-afb2-84f12255f40f",
        "colab": {
          "base_uri": "https://localhost:8080/",
          "height": 51
        }
      },
      "source": [
        "#just for validation\n",
        "for i in range(len(sorted_dic)):\n",
        "  if sorted_dic[i][0]==''.join(sorted('wangi')):\n",
        "    print(sorted_dic[i][1])\n",
        "    print(i)"
      ],
      "execution_count": 6,
      "outputs": [
        {
          "output_type": "stream",
          "text": [
            "awing\n",
            "34084\n"
          ],
          "name": "stdout"
        }
      ]
    }
  ]
}