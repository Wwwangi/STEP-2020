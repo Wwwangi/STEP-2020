{
  "nbformat": 4,
  "nbformat_minor": 0,
  "metadata": {
    "colab": {
      "name": "exeution_time.ipynb",
      "provenance": []
    },
    "kernelspec": {
      "name": "python3",
      "display_name": "Python 3"
    }
  },
  "cells": [
    {
      "cell_type": "code",
      "metadata": {
        "id": "r1iMR9afywAm",
        "colab_type": "code",
        "colab": {
          "base_uri": "https://localhost:8080/",
          "height": 51
        },
        "outputId": "c20d41a5-bc80-45ab-8d1c-293344617b79"
      },
      "source": [
        "import numpy,time\n",
        "\n",
        "n = 5\n",
        "a = numpy.zeros((n, n)) # Matrix A\n",
        "b = numpy.zeros((n, n)) # Matrix B\n",
        "c = numpy.zeros((n, n)) # Matrix C\n",
        "\n",
        "# Initialize the matrices to some values.\n",
        "for i in range(n):\n",
        "    for j in range(n):\n",
        "        a[i, j] = i * n + j\n",
        "        b[i, j] = j * n + i\n",
        "        c[i, j] = 0\n",
        "\n",
        "begin = time.time()\n",
        "\n",
        "#Calculate c=a*b\n",
        "for i in range(n):   #row of a\n",
        "  for j in range(n):  #column of b\n",
        "    for k in range(n): #row of b\n",
        "      c[i][j]+=a[i][k]*b[k][j]\n",
        "\n",
        "\n",
        "end = time.time()\n",
        "print(\"time: %.6f sec\" % (end - begin))\n",
        "\n",
        "# Print C for debugging. Comment out the print before measuring the execution time.\n",
        "total = 0\n",
        "for i in range(n):\n",
        "    for j in range(n):\n",
        "        # print c[i, j]\n",
        "        total += c[i, j]\n",
        "# Print out the sum of all values in C.\n",
        "# This should be 450 for N=3, 3680 for N=4, and 18250 for N=5.\n",
        "print(\"sum: %.6f\" % total)"
      ],
      "execution_count": 5,
      "outputs": [
        {
          "output_type": "stream",
          "text": [
            "time: 0.004235 sec\n",
            "sum: 18250.000000\n"
          ],
          "name": "stdout"
        }
      ]
    },
    {
      "cell_type": "code",
      "metadata": {
        "id": "cfQQILAp3dSN",
        "colab_type": "code",
        "colab": {}
      },
      "source": [
        "import numpy,time\n",
        "sec=[]\n",
        "for n in range(2,100):\n",
        "  a = numpy.zeros((n, n)) # Matrix A\n",
        "  b = numpy.zeros((n, n)) # Matrix B\n",
        "  c = numpy.zeros((n, n)) # Matrix C\n",
        "\n",
        "  # Initialize the matrices to some values.\n",
        "  for i in range(n):\n",
        "      for j in range(n):\n",
        "          a[i, j] = i * n + j\n",
        "          b[i, j] = j * n + i\n",
        "          c[i, j] = 0\n",
        "\n",
        "  begin = time.time()\n",
        "\n",
        "  #Calculate c=a*b\n",
        "  for i in range(n):   #row of a\n",
        "    for j in range(n):  #column of b\n",
        "      for k in range(n): #row of b\n",
        "        c[i][j]+=a[i][k]*b[k][j]\n",
        "\n",
        "\n",
        "  end = time.time()\n",
        "  sec.append(end-begin)"
      ],
      "execution_count": 0,
      "outputs": []
    },
    {
      "cell_type": "code",
      "metadata": {
        "id": "4jHefCCA4Mt0",
        "colab_type": "code",
        "colab": {
          "base_uri": "https://localhost:8080/",
          "height": 296
        },
        "outputId": "ddba86c8-f486-4b8c-d47c-ec4db1fd504e"
      },
      "source": [
        "import matplotlib.pyplot as plt\n",
        "plt.plot(range(2,100), sec, color=\"r\", linewidth=1.0)\n",
        "plt.xlabel(\"N\")\n",
        "plt.ylabel(\"Time (in sec)\")"
      ],
      "execution_count": 10,
      "outputs": [
        {
          "output_type": "execute_result",
          "data": {
            "text/plain": [
              "Text(0, 0.5, 'Time (in sec)')"
            ]
          },
          "metadata": {
            "tags": []
          },
          "execution_count": 10
        },
        {
          "output_type": "display_data",
          "data": {
            "image/png": "[encoded data removed]",
            "text/plain": [
              "<Figure size 432x288 with 1 Axes>"
            ]
          },
          "metadata": {
            "tags": [],
            "needs_background": "light"
          }
        }
      ]
    }
  ]
}