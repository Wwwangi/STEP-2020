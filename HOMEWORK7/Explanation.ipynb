{
  "nbformat": 4,
  "nbformat_minor": 0,
  "metadata": {
    "colab": {
      "name": "Explanation.ipynb",
      "provenance": []
    },
    "kernelspec": {
      "name": "python3",
      "display_name": "Python 3"
    }
  },
  "cells": [
    {
      "cell_type": "markdown",
      "metadata": {
        "id": "zx56UjdGCSsY",
        "colab_type": "text"
      },
      "source": [
        "Construct a 5*5 matrix, with each element be a random number between 0 and 99"
      ]
    },
    {
      "cell_type": "code",
      "metadata": {
        "id": "0fS7sl1HAOBH",
        "colab_type": "code",
        "colab": {}
      },
      "source": [
        "import random\n",
        "\n",
        "N = 5\n",
        "matrix = [[0]*N for _ in range(N)]\n",
        "for i in range(N):\n",
        "  for j in range(N):\n",
        "    matrix[i][j] = random.randint(0,99)"
      ],
      "execution_count": 3,
      "outputs": []
    },
    {
      "cell_type": "markdown",
      "metadata": {
        "id": "CIipjLtaCec_",
        "colab_type": "text"
      },
      "source": [
        "Print the id of elements in the first and second row. We can see that they are not continuous. It's because that the list in python is actually a list of \"reference\". For c, we need to use malloc to ask for a block of memory and there's only one pointer pointing to the starting point of the array. But for python, each element is actually a reference. They refer to different positions in the memory."
      ]
    },
    {
      "cell_type": "code",
      "metadata": {
        "id": "yx0VmuKXA9w0",
        "colab_type": "code",
        "colab": {
          "base_uri": "https://localhost:8080/",
          "height": 186
        },
        "outputId": "c63b8555-c6de-4052-df5c-f93cc310682a"
      },
      "source": [
        "for i in range(2):\n",
        "  for j in range(N):\n",
        "    print(id(matrix[i][j]))"
      ],
      "execution_count": 4,
      "outputs": [
        {
          "output_type": "stream",
          "text": [
            "10916192\n",
            "10916960\n",
            "10915936\n",
            "10917440\n",
            "10915360\n",
            "10915840\n",
            "10916800\n",
            "10917120\n",
            "10914592\n",
            "10916896\n"
          ],
          "name": "stdout"
        }
      ]
    },
    {
      "cell_type": "markdown",
      "metadata": {
        "id": "jSuR6xeBC0PT",
        "colab_type": "text"
      },
      "source": [
        "From the following example we can know that temp[0] and temp[2] are both references for the character 'a'. There's only one 'a' element in the memory. Of course if we create a list like [1,2,3,4], the id if its elements should be continuous in the memory. "
      ]
    },
    {
      "cell_type": "code",
      "metadata": {
        "id": "dZYeg4q5CJdw",
        "colab_type": "code",
        "colab": {
          "base_uri": "https://localhost:8080/",
          "height": 68
        },
        "outputId": "c10d8183-6ba1-41c7-9f9f-997ca16da447"
      },
      "source": [
        "temp = ['a','b','a']\n",
        "print(id(temp[0]))\n",
        "print(id(temp[1]))\n",
        "print(id(temp[2]))"
      ],
      "execution_count": 5,
      "outputs": [
        {
          "output_type": "stream",
          "text": [
            "139631916000008\n",
            "139631916327128\n",
            "139631916000008\n"
          ],
          "name": "stdout"
        }
      ]
    }
  ]
}