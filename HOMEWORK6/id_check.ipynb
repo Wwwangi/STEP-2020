{
  "nbformat": 4,
  "nbformat_minor": 0,
  "metadata": {
    "colab": {
      "name": "id_check.ipynb",
      "provenance": []
    },
    "kernelspec": {
      "name": "python3",
      "display_name": "Python 3"
    }
  },
  "cells": [
    {
      "cell_type": "code",
      "metadata": {
        "id": "pwp0aVubDX9G",
        "colab_type": "code",
        "colab": {
          "base_uri": "https://localhost:8080/",
          "height": 51
        },
        "outputId": "1d96de7f-605a-49a6-e398-496f93086002"
      },
      "source": [
        "#original program\n",
        "def foo(b):\n",
        "\tb.append(2)\n",
        "\tb = b + [3]\n",
        "\tb.append(4)\n",
        "\tprint('b:', b)\n",
        "\n",
        "a = [1]\n",
        "foo(a)\n",
        "print('a:', a)"
      ],
      "execution_count": 1,
      "outputs": [
        {
          "output_type": "stream",
          "text": [
            "b: [1, 2, 3, 4]\n",
            "a: [1, 2]\n"
          ],
          "name": "stdout"
        }
      ]
    },
    {
      "cell_type": "code",
      "metadata": {
        "id": "vM1d2DzODh9S",
        "colab_type": "code",
        "colab": {
          "base_uri": "https://localhost:8080/",
          "height": 574
        },
        "outputId": "70b3bcad-b7ac-42c5-fe50-0d02356d7fef"
      },
      "source": [
        "# print id\n",
        "def foo(b):\n",
        " print(\"Initial id for b: \\n\")\n",
        " print('id(b): %#08x \\n' % id(b))\n",
        " b.append(2)\n",
        " print(\"After appending 2: \\n\")\n",
        " print('id(b): %#08x \\n' % id(b))\n",
        " print('id(a): %#08x \\n' % id(a))\n",
        " b = b + [3]\n",
        " print(\"After adding [3]: \\n\")\n",
        " print('id(b): %#08x \\n' % id(b))\n",
        " print('id(a): %#08x \\n' % id(a))\n",
        " b.append(4)\n",
        " print(\"After appending 4: \\n\")\n",
        " print('id(b): %#08x \\n' % id(b))\n",
        " print('id(a): %#08x \\n' % id(a))\n",
        " print(\"Final id for b: \\n\")\n",
        " print('id(b): %#08x \\n' % id(b))\n",
        "\n",
        "a = [1]\n",
        "print(\"Initial id for a: \\n\")\n",
        "print('id(a): %#08x\\n' % id(a))\n",
        "foo(a)\n",
        "print(\"Final id for a: \\n\")\n",
        "print('id(a): %#08x' % id(a))"
      ],
      "execution_count": 7,
      "outputs": [
        {
          "output_type": "stream",
          "text": [
            "Initial id for a: \n",
            "\n",
            "id(a): 0x7f66cc3b9388\n",
            "\n",
            "Initial id for b: \n",
            "\n",
            "id(b): 0x7f66cc3b9388 \n",
            "\n",
            "After appending 2: \n",
            "\n",
            "id(b): 0x7f66cc3b9388 \n",
            "\n",
            "id(a): 0x7f66cc3b9388 \n",
            "\n",
            "After adding [3]: \n",
            "\n",
            "id(b): 0x7f66cc3b9c88 \n",
            "\n",
            "id(a): 0x7f66cc3b9388 \n",
            "\n",
            "After appending 4: \n",
            "\n",
            "id(b): 0x7f66cc3b9c88 \n",
            "\n",
            "id(a): 0x7f66cc3b9388 \n",
            "\n",
            "Final id for b: \n",
            "\n",
            "id(b): 0x7f66cc3b9c88 \n",
            "\n",
            "Final id for a: \n",
            "\n",
            "id(a): 0x7f66cc3b9388\n"
          ],
          "name": "stdout"
        }
      ]
    }
  ]
}